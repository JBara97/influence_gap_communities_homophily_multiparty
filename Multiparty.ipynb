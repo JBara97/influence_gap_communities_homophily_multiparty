{
 "cells": [
  {
   "cell_type": "code",
   "execution_count": 1,
   "id": "317e0e4f",
   "metadata": {},
   "outputs": [],
   "source": [
    "import numpy as np\n",
    "import networkx as nx\n",
    "import matplotlib.pyplot as plt\n",
    "import seaborn as sns\n",
    "from tqdm import trange\n",
    "import pandas as pd\n",
    "import matplotlib.ticker as ticker\n",
    "import scipy as sp\n",
    "import assortment_functions as af # this is the assortment_functions.py file\n",
    "import matplotlib.colors as mcolors\n",
    "from mpl_toolkits import mplot3d\n",
    "from collections import Counter\n",
    "# from numba import njit, prange\n",
    "\n",
    "### This may produce warning signs (comment out if needed)\n",
    "font = {        'size'   : 15}\n",
    "import matplotlib\n",
    "matplotlib.rc('font', **font)\n",
    "# from matplotlib import rcParams\n",
    "# rcParams.update({'figure.autolayout': True})\n",
    "\n",
    "import scipy.io\n",
    "mat = sp.io.loadmat('dynamic_parameters.mat')\n",
    "par_dist = np.zeros((3,2,11))\n",
    "par_dist[0,0,:] = mat['Win1'].reshape(12)[:-1]\n",
    "par_dist[0,1,:] = mat['Win2'].reshape(12)[:-1]\n",
    "\n",
    "par_dist[1,0,:] = mat['Deadlock1'].reshape(12)[:-1]\n",
    "par_dist[1,1,:] = mat['Deadlock2'].reshape(12)[:-1]\n",
    "\n",
    "par_dist[2,0,:] = mat['Lose1'].reshape(12)[:-1]\n",
    "par_dist[2,1,:] = mat['Lose2'].reshape(12)[:-1]\n",
    "\n",
    "def poll_fraction(g,n):\n",
    "    party = g.nodes[n]['party']\n",
    "    delta = 1 # Since the node knows it will vote for its own party\n",
    "    neighbours = list(g.neighbors(n))\n",
    "    for m in neighbours:\n",
    "        if g.nodes[m]['party'] == party:\n",
    "            delta+=1\n",
    "    delta = delta/(len(neighbours)+1)\n",
    "    return delta\n",
    "\n",
    "def dynamics(g,last=False,ass=False,late=False,full_ig=False,par_mean=False):\n",
    "    V = 0.6 # Super-majority\n",
    "    \n",
    "    T = 240 # Total length of game in seconds\n",
    "    t_decision = 3.3 # The time between updates\n",
    "    t = 0\n",
    "    \n",
    "    t_transition = 83 # Transition between early and late\n",
    "    no_decisions = int(T//t_decision) # No of updates\n",
    "    \n",
    "    polls = np.array([poll_fraction(g,n) for n in g]) # \n",
    "    initial_parties = np.array(list(nx.get_node_attributes(g,'party').values()))\n",
    "    intentions = np.zeros((no_decisions+1,len(g)))\n",
    "    intentions[0,:] = initial_parties\n",
    "    \n",
    "    if full_ig:\n",
    "        IG = np.zeros(no_decisions+1)\n",
    "        IG[0] = af.influence_gap(g,absolute=False)\n",
    "    \n",
    "    if ass:\n",
    "        assortment = np.zeros((no_decisions+1,2))\n",
    "        assortment[0,:] = list(af.party_assortment(g).values())\n",
    "    \n",
    "    rand_numbers = np.random.rand(no_decisions+1,len(g))\n",
    "    \n",
    "    pars = np.zeros((3,2,len(g)))\n",
    "    for i in range(3):\n",
    "        for j in range(2):\n",
    "            if not par_mean:\n",
    "                pars[i,j,:] = np.random.choice(np.linspace(0,1,11),p=par_dist[i,j,:],size=len(g))\n",
    "            else:\n",
    "                pars[i,j,:] = mean_prob[i,j]\n",
    "    \n",
    "    phase = 0 # Early\n",
    "    for t_index in range(1,no_decisions+1):\n",
    "        t += t_decision\n",
    "#         t_index = int(t//t_decision)\n",
    "        if t > 83:\n",
    "            phase = 1 # Late\n",
    "            if late & (t<83+3.3):\n",
    "                IG = af.influence_gap(g,absolute=False)\n",
    "        pars_now = np.zeros(len(g))\n",
    "        pars_now[polls>=V] = pars[0,phase,polls>=V]\n",
    "        pars_now[(polls>=1-V)&(polls<V)] = pars[1,phase,(polls>=1-V)&(polls<V)]\n",
    "        pars_now[polls<1-V] = pars[2,phase,polls<1-V]\n",
    "        \n",
    "        if full_ig:\n",
    "            IG[t_index] = af.influence_gap(g,absolute=False)\n",
    "        \n",
    "        for n in g:\n",
    "            if rand_numbers[t_index,n] <= pars_now[n]:\n",
    "                intentions[t_index,n] = int(initial_parties[n])\n",
    "            else:\n",
    "                intentions[t_index,n] = int(1 - initial_parties[n])\n",
    "        parties_dict = {n:int(intentions[t_index,n]) for n in g}\n",
    "        nx.set_node_attributes(g,parties_dict,'party')\n",
    "        # CORRECTION LINE 27/5/21\n",
    "        polls = np.array([poll_fraction(g,n) for n in g])\n",
    "        # END OF CORRECTION 27/5/21\n",
    "        if ass:\n",
    "            assortment[t_index,:]=list(af.party_assortment(g).values())\n",
    "#         print(t_index)\n",
    "#         print(initial_parties)\n",
    "    if last:\n",
    "        return intentions[-1,:]\n",
    "    elif late:\n",
    "        return IG,np.sum(intentions[-1,:])/len(g)-0.5\n",
    "    elif ass:\n",
    "        return assortment\n",
    "    elif full_ig:\n",
    "        return IG,np.sum(intentions,axis=1)/len(g) - 0.5\n",
    "    else:\n",
    "        return intentions\n",
    "    \n",
    "def dVS_gap(g,step=1):\n",
    "    DG = np.zeros(len(g))\n",
    "    parties = nx.get_node_attributes(g,'party')\n",
    "    for n in g:\n",
    "        poll_n = poll_fraction(g,n)\n",
    "        if poll_n>=1/2:\n",
    "            DG[n] = parties[n]\n",
    "        else:\n",
    "            DG[n] = 1-parties[n]\n",
    "    if step <= 1:\n",
    "        return np.sum(DG)/len(g) - 0.5\n",
    "    else:\n",
    "        h = g.copy()\n",
    "        nx.set_node_attributes(h,{n:DG[n] for n in h},'party')\n",
    "        return dVS_gap(h,step=step-1)\n",
    "    \n",
    "def wasted_vote(g,n):\n",
    "    party = g.nodes[n]['party']\n",
    "    neighbours = list(g.neighbors(n))\n",
    "    frac = poll_fraction(g,n)\n",
    "    if frac >= 1/2:\n",
    "        A = 1\n",
    "        B = 0\n",
    "        for neigh in neighbours:\n",
    "            if g.nodes[neigh]['party'] == party:\n",
    "                A+=1\n",
    "            else:\n",
    "                B+=1\n",
    "        return int(np.ceil((A-B)/2)-1)\n",
    "    else:\n",
    "        friends = 1\n",
    "        for neigh in neighbours:\n",
    "            if g.nodes[neigh]['party'] == party:\n",
    "                friends += 1\n",
    "        return friends\n",
    "\n",
    "def efficiency_gap(g):\n",
    "    wasted_votes = np.array([wasted_vote(g,n) for n in g])\n",
    "    red_wv = [wasted_votes[n] for n in g if g.nodes[n]['party'] == 1]\n",
    "    blu_wv = [wasted_votes[n] for n in g if g.nodes[n]['party'] == 0]\n",
    "    return np.sum(red_wv) - np.sum(blu_wv)"
   ]
  },
  {
   "cell_type": "code",
   "execution_count": 4,
   "id": "6a566714",
   "metadata": {
    "scrolled": true
   },
   "outputs": [
    {
     "name": "stderr",
     "output_type": "stream",
     "text": [
      "100%|██████████| 11/11 [22:58<00:00, 125.30s/it]\n",
      "100%|██████████| 11/11 [23:22<00:00, 127.46s/it]\n",
      "100%|██████████| 11/11 [23:42<00:00, 129.30s/it]\n"
     ]
    }
   ],
   "source": [
    "h = [0,0.1,0.2,0.3,0.4,0.5,0.6,0.7,0.8,0.9,1]\n",
    "p = [0,0.4,1]\n",
    "N=20\n",
    "per_maj = 30\n",
    "\n",
    "no_voters_0 = [i for i in range(1,20) for j in range(1,20-i)] \n",
    "no_voters_1 = [j for i in range(1,20) for j in range(1,20-i)]\n",
    "no_voters_2 = [20 - no_voters_0[i] - no_voters_1[i] for i in range(len(no_voters_0))]\n",
    "no_voters = np.array([no_voters_0*per_maj, no_voters_1*per_maj, no_voters_2*per_maj]).transpose()\n",
    "mult_of_maj = len(no_voters_0)\n",
    "\n",
    "samples = per_maj*mult_of_maj\n",
    "\n",
    "IG = np.zeros((per_maj*mult_of_maj,3))\n",
    "outcomes = np.zeros((per_maj*mult_of_maj,3))\n",
    "# dVS = np.zeros(samples*10)\n",
    "# EG = np.zeros(samples*10)\n",
    "dfs=[]\n",
    "for k in range(3):\n",
    "    for j in trange(11):\n",
    "        for i in range(per_maj*mult_of_maj):\n",
    "#             node_list = np.random.choice(range(N),size=(N//2+Majority[i]),replace=False)\n",
    "#             parties = {n:int(n in node_list) for n in range(N)} \n",
    "            party_0 = np.random.choice(range(N),size=no_voters[i,0],replace=False)\n",
    "            party_1 = np.random.choice([n for n in range(N) if n not in party_0],\n",
    "                                       size=no_voters[i,1],replace=False)\n",
    "            party_2 = [n for n in range(N) if n not in party_0 and n not in party_1]\n",
    "            parties = {**{n:0 for n in party_0}, **{n:1 for n in party_1}, **{n:2 for n in party_2}}\n",
    "            G = af.homophilic_relaxed_caveman_graph(2,10,p[k],h[j],parties)\n",
    "            IG[i,:] = [af.influence_gap(G,p=n) for n in range(3)]\n",
    "            \n",
    "            # running the election\n",
    "            election_outcome = Counter(af.dynamics(G,last=True))\n",
    "            outcomes[i,:] = [election_outcome[p] for p in range(3)]\n",
    "            \n",
    "        df = pd.DataFrame(data=np.concatenate((no_voters,IG,outcomes,\n",
    "                                               np.array([h[j]]*per_maj*mult_of_maj).reshape(per_maj*mult_of_maj,1),\n",
    "                                               np.array([p[k]]*per_maj*mult_of_maj).reshape(per_maj*mult_of_maj,1)\n",
    "                                              ),axis=1),\n",
    "                          columns=['Party_0_initial','Party_1_initial','Party_2_initial',\n",
    "                                   'IG_0','IG_1','IG_2',\n",
    "                                   'Party_0_final','Party_1_final','Party_2_final',\n",
    "                                   'Homophily','Rewire'])\n",
    "        dfs.append(df)\n",
    "#         df.to_csv('Dynamics/Corrections 27-5-21/hRC_h{0}p{1}.csv'.format(h[j],p[k]),index=False)\n",
    "pd.concat(dfs).to_csv('Dynamics/Corrections 27-5-21/Multiparty/hRC_all_samples{0}a.csv'.format(samples),\n",
    "                       index=False)"
   ]
  },
  {
   "cell_type": "code",
   "execution_count": 4,
   "id": "2b61ede9",
   "metadata": {},
   "outputs": [
    {
     "data": {
      "text/plain": [
       "18"
      ]
     },
     "execution_count": 4,
     "metadata": {},
     "output_type": "execute_result"
    }
   ],
   "source": [
    "no_vo_0 = np.array(no_voters_0)\n",
    "len(no_vo_0[no_vo_0==1])"
   ]
  },
  {
   "cell_type": "code",
   "execution_count": 6,
   "id": "80d17288",
   "metadata": {},
   "outputs": [
    {
     "name": "stdout",
     "output_type": "stream",
     "text": [
      "Red:  Counter({1: 18, 2: 17, 3: 16, 4: 15, 5: 14, 6: 13, 7: 12, 8: 11, 9: 10, 10: 9, 11: 8, 12: 7, 13: 6, 14: 5, 15: 4, 16: 3, 17: 2, 18: 1})\n",
      "Blu:  Counter({1: 18, 2: 17, 3: 16, 4: 15, 5: 14, 6: 13, 7: 12, 8: 11, 9: 10, 10: 9, 11: 8, 12: 7, 13: 6, 14: 5, 15: 4, 16: 3, 17: 2, 18: 1})\n",
      "Gre:  Counter({1: 18, 2: 17, 3: 16, 4: 15, 5: 14, 6: 13, 7: 12, 8: 11, 9: 10, 10: 9, 11: 8, 12: 7, 13: 6, 14: 5, 15: 4, 16: 3, 17: 2, 18: 1})\n"
     ]
    }
   ],
   "source": [
    "no_voters_0 = [i for i in range(1,20) for j in range(1,20-i)] \n",
    "no_voters_1 = [j for i in range(1,20) for j in range(1,20-i)]\n",
    "no_voters_2 = [20 - no_voters_0[i] - no_voters_1[i] for i in range(len(no_voters_0))]\n",
    "\n",
    "counter_0 = Counter(no_voters_0)\n",
    "counter_1 = Counter(no_voters_1)\n",
    "counter_2 = Counter(no_voters_2)\n",
    "\n",
    "print('Red: ', counter_0)\n",
    "print('Blu: ', counter_1)\n",
    "print('Gre: ', counter_2)"
   ]
  },
  {
   "cell_type": "code",
   "execution_count": 11,
   "id": "4bf08cf2",
   "metadata": {},
   "outputs": [
    {
     "data": {
      "text/plain": [
       "(1710, 3)"
      ]
     },
     "execution_count": 11,
     "metadata": {},
     "output_type": "execute_result"
    }
   ],
   "source": [
    "samples=10\n",
    "no_voters = np.array([no_voters_0*samples, no_voters_1*samples, no_voters_2*samples]).transpose()\n",
    "# no_voters.shape"
   ]
  },
  {
   "cell_type": "code",
   "execution_count": 19,
   "id": "98206170",
   "metadata": {},
   "outputs": [
    {
     "name": "stdout",
     "output_type": "stream",
     "text": [
      "Counter({1: 8, 0: 7, 2: 5})\n",
      "[7 8 5]\n"
     ]
    }
   ],
   "source": [
    "i=100\n",
    "party_0 = np.random.choice(range(N),size=no_voters[i,0],replace=False)\n",
    "party_1 = np.random.choice([n for n in range(N) if n not in party_0],\n",
    "                                       size=no_voters[i,1],replace=False)\n",
    "party_2 = [n for n in range(N) if n not in party_0 and n not in party_1]\n",
    "party_list = {**{n:0 for n in party_0}, **{n:1 for n in party_1}, **{n:2 for n in party_2}}\n",
    "print(Counter(party_list.values()))\n",
    "print(no_voters[i,:])"
   ]
  },
  {
   "cell_type": "code",
   "execution_count": 8,
   "id": "78a7bb53",
   "metadata": {},
   "outputs": [],
   "source": [
    "party_list = {**{n:0 for n in party_0}, **{n:1 for n in party_1}, **{n:2 for n in party_2}}\n",
    "G = af.homophilic_relaxed_caveman_graph(2,10,1,0.6,party_list)"
   ]
  },
  {
   "cell_type": "code",
   "execution_count": 10,
   "id": "72b0589f",
   "metadata": {},
   "outputs": [
    {
     "name": "stdout",
     "output_type": "stream",
     "text": [
      "[-1.2771917896917897, 1.146503959003959, -1.146503959003959]\n"
     ]
    }
   ],
   "source": [
    "IGs = [af.influence_gap(G,p=p) for p in range(3)]\n",
    "print(IGs)"
   ]
  },
  {
   "cell_type": "code",
   "execution_count": 11,
   "id": "70a2966f",
   "metadata": {},
   "outputs": [
    {
     "name": "stdout",
     "output_type": "stream",
     "text": [
      "[1. 1. 1. 1. 1. 2. 2. 1. 1. 1. 1. 1. 1. 1. 1. 0. 2. 2. 1. 2.]\n"
     ]
    }
   ],
   "source": [
    "election_outcome = af.dynamics(G,last=True)\n",
    "print(election_outcome)"
   ]
  },
  {
   "cell_type": "code",
   "execution_count": 27,
   "id": "60f2834e",
   "metadata": {
    "scrolled": true
   },
   "outputs": [
    {
     "name": "stdout",
     "output_type": "stream",
     "text": [
      "2100\n",
      "1710\n",
      "17100\n"
     ]
    }
   ],
   "source": [
    "print(int(N*(N+1)/2)*10)\n",
    "print(no_voters.shape[0])\n",
    "print(samples*mult_of_maj)"
   ]
  },
  {
   "cell_type": "code",
   "execution_count": 97,
   "id": "042f2daf",
   "metadata": {},
   "outputs": [
    {
     "name": "stdout",
     "output_type": "stream",
     "text": [
      "[0, 1, 2, 3, 4, 5, 6, 7, 8, 9, 10, 11, 12, 13, 14, 15, 16, 17, 18, 19]\n",
      "[12 15 16  5 18]\n",
      "[19 13  3 14  4]\n",
      "[0, 1, 2, 6, 7, 8, 9, 10, 11, 17]\n"
     ]
    }
   ],
   "source": [
    "node_list = [n for n in range(20)]\n",
    "N=20\n",
    "reduced_list = np.random.choice(range(20),size=5,replace=False)\n",
    "redx_list = np.random.choice([n for n in range(N) if n not in reduced_list],size=5,replace=False)\n",
    "rem_list = [n for n in range(N) if n not in reduced_list and n not in redx_list]\n",
    "print(node_list)\n",
    "print(reduced_list)\n",
    "print(redx_list)\n",
    "print(rem_list)"
   ]
  },
  {
   "cell_type": "code",
   "execution_count": null,
   "id": "6865acda",
   "metadata": {},
   "outputs": [],
   "source": [
    "count = 0\n",
    "for i in range(20):\n",
    "    for j in range(20-i):\n",
    "        count+=1\n",
    "#         print(i+j)\n",
    "print(count)"
   ]
  },
  {
   "cell_type": "code",
   "execution_count": 90,
   "id": "2d88b415",
   "metadata": {},
   "outputs": [],
   "source": [
    "Maj_0 = [i for i in range(1,20) for j in range(1,20-i)] \n",
    "Maj_1 = [j for i in range(1,20) for j in range(1,20-i)]\n",
    "Maj_2 = [20 - Maj_0[i] - Maj_1[i] for i in range(len(Maj_0))]"
   ]
  },
  {
   "cell_type": "code",
   "execution_count": 105,
   "id": "5b67ef7f",
   "metadata": {},
   "outputs": [
    {
     "data": {
      "text/html": [
       "<div>\n",
       "<style scoped>\n",
       "    .dataframe tbody tr th:only-of-type {\n",
       "        vertical-align: middle;\n",
       "    }\n",
       "\n",
       "    .dataframe tbody tr th {\n",
       "        vertical-align: top;\n",
       "    }\n",
       "\n",
       "    .dataframe thead th {\n",
       "        text-align: right;\n",
       "    }\n",
       "</style>\n",
       "<table border=\"1\" class=\"dataframe\">\n",
       "  <thead>\n",
       "    <tr style=\"text-align: right;\">\n",
       "      <th></th>\n",
       "      <th>0</th>\n",
       "      <th>1</th>\n",
       "      <th>2</th>\n",
       "    </tr>\n",
       "  </thead>\n",
       "  <tbody>\n",
       "    <tr>\n",
       "      <th>0</th>\n",
       "      <td>1</td>\n",
       "      <td>1</td>\n",
       "      <td>18</td>\n",
       "    </tr>\n",
       "    <tr>\n",
       "      <th>1</th>\n",
       "      <td>1</td>\n",
       "      <td>2</td>\n",
       "      <td>17</td>\n",
       "    </tr>\n",
       "    <tr>\n",
       "      <th>2</th>\n",
       "      <td>1</td>\n",
       "      <td>3</td>\n",
       "      <td>16</td>\n",
       "    </tr>\n",
       "    <tr>\n",
       "      <th>3</th>\n",
       "      <td>1</td>\n",
       "      <td>4</td>\n",
       "      <td>15</td>\n",
       "    </tr>\n",
       "    <tr>\n",
       "      <th>4</th>\n",
       "      <td>1</td>\n",
       "      <td>5</td>\n",
       "      <td>14</td>\n",
       "    </tr>\n",
       "  </tbody>\n",
       "</table>\n",
       "</div>"
      ],
      "text/plain": [
       "   0  1   2\n",
       "0  1  1  18\n",
       "1  1  2  17\n",
       "2  1  3  16\n",
       "3  1  4  15\n",
       "4  1  5  14"
      ]
     },
     "execution_count": 105,
     "metadata": {},
     "output_type": "execute_result"
    }
   ],
   "source": [
    "Maj = np.array([Maj_0,Maj_1,Maj_2]).transpose()\n",
    "df = pd.DataFrame(data=Maj,columns=['0','1','2'])\n",
    "df.head()"
   ]
  },
  {
   "cell_type": "markdown",
   "id": "ec94e369",
   "metadata": {},
   "source": [
    "# testing hrc in >2 parties"
   ]
  },
  {
   "cell_type": "code",
   "execution_count": null,
   "id": "65f6a7ef",
   "metadata": {},
   "outputs": [],
   "source": [
    "no_of_parties=3\n",
    "N=15\n",
    "party_list = {n:np.random.randint(0,no_of_parties) for n in range(N)}\n",
    "g = af.homophilic_relaxed_caveman_graph(5,N//5,0.5,1,party_list,iterations=100)\n",
    "nx.draw(g,node_color=list(party_list.values()),pos=nx.spring_layout(g),with_labels=True)"
   ]
  },
  {
   "cell_type": "code",
   "execution_count": null,
   "id": "6f085707",
   "metadata": {},
   "outputs": [],
   "source": [
    "all_assortments = af.all_party_assortment(g)\n",
    "print('parties: ', all_assortments)\n",
    "node_assortments = {n:af.node_assortment(g,n) for n in g}\n",
    "print('nodes: ', node_assortments)"
   ]
  },
  {
   "cell_type": "code",
   "execution_count": null,
   "id": "d183c44f",
   "metadata": {},
   "outputs": [],
   "source": [
    "af.node_assortment(g,0)"
   ]
  },
  {
   "cell_type": "markdown",
   "id": "6a89aada",
   "metadata": {},
   "source": [
    "# testing sbms"
   ]
  },
  {
   "cell_type": "code",
   "execution_count": 59,
   "id": "5d38d5d0",
   "metadata": {},
   "outputs": [
    {
     "data": {
      "image/png": "[encoded data removed]",
      "text/plain": [
       "<Figure size 432x288 with 1 Axes>"
      ]
     },
     "metadata": {},
     "output_type": "display_data"
    }
   ],
   "source": [
    "sizes = [10,10,10]\n",
    "probs = [[0.8, 0.05,0.05],[0.05,0.8,0.05],[0.05,0.05,0.8]]\n",
    "g = nx.stochastic_block_model(sizes,probs)\n",
    "nx.draw(g,node_color=[0]*10+[1]*10+[2]*10)\n",
    "num_to_party={0:'red',1:'blue',2:'green'}\n",
    "nx.set_node_attributes(g,{i:i//10 for i in range(30)},'party')"
   ]
  },
  {
   "cell_type": "code",
   "execution_count": 57,
   "id": "1d99c7a3",
   "metadata": {},
   "outputs": [
    {
     "name": "stdout",
     "output_type": "stream",
     "text": [
      "{0: 'red', 1: 'red', 2: 'red', 3: 'red', 4: 'red', 5: 'red', 6: 'red', 7: 'red', 8: 'red', 9: 'red', 10: 'blue', 11: 'blue', 12: 'blue', 13: 'blue', 14: 'blue', 15: 'blue', 16: 'blue', 17: 'blue', 18: 'blue', 19: 'blue', 20: 'green', 21: 'green', 22: 'green', 23: 'green', 24: 'green', 25: 'green', 26: 'green', 27: 'green', 28: 'green', 29: 'green'}\n"
     ]
    }
   ],
   "source": [
    "print(nx.get_node_attributes(g,'party'))"
   ]
  },
  {
   "cell_type": "code",
   "execution_count": 60,
   "id": "82cb3ea5",
   "metadata": {},
   "outputs": [
    {
     "name": "stdout",
     "output_type": "stream",
     "text": [
      "[0. 0. 0. 0. 0. 0. 0. 0. 0. 0. 1. 1. 1. 1. 1. 1. 1. 1. 1. 1. 2. 2. 2. 2.\n",
      " 2. 2. 2. 2. 2. 2.]\n"
     ]
    }
   ],
   "source": [
    "print(af.dynamics(g,last=True))"
   ]
  },
  {
   "cell_type": "code",
   "execution_count": 61,
   "id": "b5c9c93e",
   "metadata": {},
   "outputs": [
    {
     "data": {
      "image/png": "[encoded data removed]",
      "text/plain": [
       "<Figure size 432x288 with 1 Axes>"
      ]
     },
     "metadata": {},
     "output_type": "display_data"
    }
   ],
   "source": [
    "nx.draw(g,node_color=list(nx.get_node_attributes(g,'party').values()))"
   ]
  },
  {
   "cell_type": "code",
   "execution_count": null,
   "id": "1c55cb27",
   "metadata": {},
   "outputs": [],
   "source": [
    "poll = list(g.neighbors(0)) + [0]\n",
    "poll_count = Counter([g.nodes[m]['party'] for m in poll])"
   ]
  },
  {
   "cell_type": "code",
   "execution_count": null,
   "id": "af4e05b3",
   "metadata": {},
   "outputs": [],
   "source": [
    "[g.nodes[m] for m in poll]"
   ]
  },
  {
   "cell_type": "code",
   "execution_count": null,
   "id": "56a50113",
   "metadata": {},
   "outputs": [],
   "source": [
    "x = {0:20,3:50,1:60}\n",
    "max(x.values())"
   ]
  }
 ],
 "metadata": {
  "hide_input": false,
  "kernelspec": {
   "display_name": "Python 3 (ipykernel)",
   "language": "python",
   "name": "python3"
  },
  "language_info": {
   "codemirror_mode": {
    "name": "ipython",
    "version": 3
   },
   "file_extension": ".py",
   "mimetype": "text/x-python",
   "name": "python",
   "nbconvert_exporter": "python",
   "pygments_lexer": "ipython3",
   "version": "3.7.3"
  }
 },
 "nbformat": 4,
 "nbformat_minor": 5
}
